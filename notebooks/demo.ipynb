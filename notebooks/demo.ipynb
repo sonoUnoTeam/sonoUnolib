{
 "cells": [
  {
   "cell_type": "markdown",
   "id": "e0fd5ab6-c84b-4ee3-a009-df9b976aa06b",
   "metadata": {},
   "source": [
    "# Demo sonoUno library\n",
    "\n",
    "The sonoUno library provides generic tools to import audio files, transform the sound waves and export them.\n",
    "The most important class is the `Track` class. It stores information intrinsic the sound waves:\n",
    "\n",
    "- the sampling rate (default: 44100 Hz)\n",
    "- the maximum amplitude (default: 1)\n",
    "- the sound wave as a float64 numpy array.\n",
    "    \n",
    "and also a timestamp marker `cue_write` that indicates when will occur the next writing on the track. Tracks manage their own data buffer, which is automatically resized as more sounds are added to it.\n",
    "\n",
    "## Reading WAV files\n",
    "Wave files can be imported as a `Track`:"
   ]
  },
  {
   "cell_type": "code",
   "execution_count": null,
   "id": "da4c55d7-c67c-4ee3-b2dc-1997ea185bbb",
   "metadata": {},
   "outputs": [],
   "source": [
    "from sonounolib import Track\n",
    "sound = Track.load('glass-water.wav')\n",
    "sound.play()"
   ]
  },
  {
   "cell_type": "markdown",
   "id": "f0c559ab-719a-4142-aa03-d0a4d9c1b200",
   "metadata": {},
   "source": [
    "## Playing a sine wave\n",
    "\n",
    "To add a sine wave to the track, it is required to specify\n",
    "\n",
    "- the oscillation frequency, in Hertz\n",
    "- the duration, in seconds\n",
    "- and the amplitude, relative the track's maximum amplitude."
   ]
  },
  {
   "cell_type": "code",
   "execution_count": null,
   "id": "840eb6d6-d27c-4d84-9724-09ed8e7820b8",
   "metadata": {},
   "outputs": [],
   "source": [
    "from sonounolib import Track\n",
    "track = Track().add_sine_wave(440, duration=2, amplitude=1/4)\n",
    "track.play()"
   ]
  },
  {
   "cell_type": "markdown",
   "id": "106cbe49-251b-40ec-a1cd-c3fd141c0c78",
   "metadata": {},
   "source": [
    "## Playing a superposition of sine waves\n",
    "\n",
    "To superpose other generated sine waves to the track, one has to rewind the cue write at the time when the new sine waves start:"
   ]
  },
  {
   "cell_type": "code",
   "execution_count": null,
   "id": "3afc1ead-6db9-4b1d-a602-55ec294b67e9",
   "metadata": {
    "tags": []
   },
   "outputs": [],
   "source": [
    "import numpy as np\n",
    "from sonounolib import Track\n",
    "\n",
    "frequencies = {octave: 110 * 2**octave for octave in range(0, 8)}\n",
    "\n",
    "track = Track()\n",
    "for octave, frequency in frequencies.items():\n",
    "    starting_time = octave\n",
    "    duration = len(frequencies) - octave + 1\n",
    "    track.set_cue_write(starting_time).add_sine_wave(frequency, duration, amplitude=1/8)\n",
    "track.play()"
   ]
  },
  {
   "cell_type": "markdown",
   "id": "80d10fee-ecb4-493b-9854-2b205c452764",
   "metadata": {
    "tags": []
   },
   "source": [
    "## Playing notes\n",
    "\n",
    "The [scientific pitch notation](https://en.wikipedia.org/wiki/Scientific_pitch_notation) can be used to play notes. For instance: the notes C<sub><small>4</small></sub>, F<sup>♯</sup><sub><small>4</small></sub> and G<sup>♭</sup><sub><small>4</small></sub> can be referenced by the strings `'C4'`, `'F#4'` and `'Gb4'`."
   ]
  },
  {
   "cell_type": "code",
   "execution_count": null,
   "id": "2f5b827b-69bc-49f4-9477-6b69caa919d9",
   "metadata": {},
   "outputs": [],
   "source": [
    "from sonounolib import Track\n",
    "\n",
    "notes = 2 * ['C4', 'D4', 'E4', 'C4']\n",
    "notes += 2 * ['E4', 'F4', 'G4', 'G4']\n",
    "track = Track()\n",
    "for note in notes:\n",
    "    track.add_sine_wave(note, 0.45)\n",
    "    track.add_blank(0.05)\n",
    "track.play()\n"
   ]
  }
 ],
 "metadata": {
  "kernelspec": {
   "display_name": "Python 3 (ipykernel)",
   "language": "python",
   "name": "python3"
  },
  "language_info": {
   "codemirror_mode": {
    "name": "ipython",
    "version": 3
   },
   "file_extension": ".py",
   "mimetype": "text/x-python",
   "name": "python",
   "nbconvert_exporter": "python",
   "pygments_lexer": "ipython3",
   "version": "3.10.4"
  }
 },
 "nbformat": 4,
 "nbformat_minor": 5
}
